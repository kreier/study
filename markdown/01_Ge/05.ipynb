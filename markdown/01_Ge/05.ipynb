{
 "cells": [
  {
   "cell_type": "markdown",
   "metadata": {},
   "source": [
    "# Genesis 5\n",
    "\n",
    "- From Adam to Noah (1-32)\n",
    "- Adam fathered sons and daughters (4)\n",
    "- Enoch walked with God (21-24)\n",
    "\n",
    "Creating a timeline is not that easy. The datetime from pandas is limited:"
   ]
  },
  {
   "cell_type": "code",
   "execution_count": 1,
   "metadata": {
    "scrolled": true
   },
   "outputs": [
    {
     "name": "stdout",
     "output_type": "stream",
     "text": [
      "Minimum time is: 1677-09-21 00:12:43.145224193\n",
      "Maximum time is: 2262-04-11 23:47:16.854775807\n",
      "585 213671.25 18461196000.0\n",
      "18446744073709551616\n"
     ]
    }
   ],
   "source": [
    "import pandas as pd\n",
    "\n",
    "print(\"Minimum time is:\", pd.Timestamp.min)\n",
    "print(\"Maximum time is:\", pd.Timestamp.max)\n",
    "y = 2262-1677\n",
    "d = y * 365.25\n",
    "s = d *24 * 60 * 60\n",
    "print(y, d, s)\n",
    "print(2**64)"
   ]
  },
  {
   "cell_type": "markdown",
   "metadata": {},
   "source": [
    "Obviously Timestamp only supports dates from 1677 to 2262. The reason is to use a 64bit representation of time and be able to have nanosecond precision. \n",
    "\n",
    "A build in time format in python is datetime. It has a much larger range than 585 years, but is not much better, since it does not support BCE dates. Guido van Rossum commented on this in 2018 with reference to the nonexsisting year zero and other problems."
   ]
  },
  {
   "cell_type": "code",
   "execution_count": 2,
   "metadata": {},
   "outputs": [
    {
     "name": "stdout",
     "output_type": "stream",
     "text": [
      "0001-01-01 00:00:00\n",
      "9999-12-31 23:59:59.999999\n"
     ]
    }
   ],
   "source": [
    "import datetime\n",
    "print(datetime.datetime.min)\n",
    "print(datetime.datetime.max)"
   ]
  },
  {
   "cell_type": "markdown",
   "metadata": {},
   "source": [
    "A solution is [astropy.time](https://docs.astropy.org/en/stable/time/index.html) For a start we just use integers for the years."
   ]
  },
  {
   "cell_type": "code",
   "execution_count": 28,
   "metadata": {},
   "outputs": [
    {
     "name": "stdout",
     "output_type": "stream",
     "text": [
      "             name  born  died           notes\n",
      "0            Adam  4026  3096             NaN\n",
      "1            Seth  3896  2984             NaN\n",
      "2          Eʹnosh  3791  2886             NaN\n",
      "3          Keʹnan  3701  2791             NaN\n",
      "4    Ma·halʹa·lel  3631  2736             NaN\n",
      "5          Jaʹred  3566  2604             NaN\n",
      "6          Eʹnoch  3404  3039             NaN\n",
      "7   Me·thuʹse·lah  3339  2370             NaN\n",
      "8         Laʹmech  3152  2377             NaN\n",
      "9            Noah  2970  2020  flood 2370 BCE\n",
      "10           Shem  2468  1868             NaN\n",
      "name      Adam\n",
      "born      4026\n",
      "died      3096\n",
      "notes      NaN\n",
      "start    -4026\n",
      "Name: 0, dtype: object\n",
      "name      Seth\n",
      "born      3896\n",
      "died      2984\n",
      "notes      NaN\n",
      "start    -3896\n",
      "Name: 1, dtype: object\n",
      "name     Eʹnosh\n",
      "born       3791\n",
      "died       2886\n",
      "notes       NaN\n",
      "start     -3791\n",
      "Name: 2, dtype: object\n",
      "name     Keʹnan\n",
      "born       3701\n",
      "died       2791\n",
      "notes       NaN\n",
      "start     -3701\n",
      "Name: 3, dtype: object\n",
      "name     Ma·halʹa·lel\n",
      "born             3631\n",
      "died             2736\n",
      "notes             NaN\n",
      "start           -3631\n",
      "Name: 4, dtype: object\n",
      "name     Jaʹred\n",
      "born       3566\n",
      "died       2604\n",
      "notes       NaN\n",
      "start     -3566\n",
      "Name: 5, dtype: object\n",
      "name     Eʹnoch\n",
      "born       3404\n",
      "died       3039\n",
      "notes       NaN\n",
      "start     -3404\n",
      "Name: 6, dtype: object\n",
      "name     Me·thuʹse·lah\n",
      "born              3339\n",
      "died              2370\n",
      "notes              NaN\n",
      "start            -3339\n",
      "Name: 7, dtype: object\n",
      "name     Laʹmech\n",
      "born        3152\n",
      "died        2377\n",
      "notes        NaN\n",
      "start      -3152\n",
      "Name: 8, dtype: object\n",
      "name               Noah\n",
      "born               2970\n",
      "died               2020\n",
      "notes    flood 2370 BCE\n",
      "start             -2970\n",
      "Name: 9, dtype: object\n",
      "name      Shem\n",
      "born      2468\n",
      "died      1868\n",
      "notes      NaN\n",
      "start    -2468\n",
      "Name: 10, dtype: object\n"
     ]
    }
   ],
   "source": [
    "import pandas as pd\n",
    "\n",
    "generation = pd.read_csv(\"https://raw.githubusercontent.com/kreier/study/main/markdown/01_Ge/05.csv\")\n",
    "print(generation)\n",
    "\n",
    "generation['start'] = -generation['born']\n",
    "\n",
    "for index, row in generation.iterrows():\n",
    "    print(row)\n",
    "#     print(f\"was born in {row.born} BCE and died {row.died} BCE and he lived {row.born - row.died} years.\")"
   ]
  },
  {
   "cell_type": "code",
   "execution_count": 11,
   "metadata": {},
   "outputs": [
    {
     "ename": "ValueError",
     "evalue": "too many values to unpack (expected 2)",
     "output_type": "error",
     "traceback": [
      "\u001b[1;31m---------------------------------------------------------------------------\u001b[0m",
      "\u001b[1;31mValueError\u001b[0m                                Traceback (most recent call last)",
      "Cell \u001b[1;32mIn[11], line 11\u001b[0m\n\u001b[0;32m      8\u001b[0m gnt\u001b[38;5;241m.\u001b[39mset_yticks(y_pos)\n\u001b[0;32m      9\u001b[0m gnt\u001b[38;5;241m.\u001b[39mset_yticklabels(y_tick_labels)\n\u001b[1;32m---> 11\u001b[0m \u001b[38;5;28;01mfor\u001b[39;00m index, row \u001b[38;5;129;01min\u001b[39;00m generation:\n\u001b[0;32m     12\u001b[0m     start_year \u001b[38;5;241m=\u001b[39m \u001b[38;5;28mint\u001b[39m(row\u001b[38;5;241m.\u001b[39mborn)\n\u001b[0;32m     13\u001b[0m     duration \u001b[38;5;241m=\u001b[39m start_year \u001b[38;5;241m-\u001b[39m generation\u001b[38;5;241m.\u001b[39mdied\n",
      "\u001b[1;31mValueError\u001b[0m: too many values to unpack (expected 2)"
     ]
    },
    {
     "data": {
      "image/png": "[encoded data removed]",
      "text/plain": [
       "<Figure size 800x600 with 1 Axes>"
      ]
     },
     "metadata": {},
     "output_type": "display_data"
    }
   ],
   "source": [
    "import matplotlib.pyplot as plt\n",
    "\n",
    "fig, gnt = plt.subplots(figsize=(8,6))\n",
    "\n",
    "y_tick_labels = generation['name']\n",
    "y_pos = np.arange(len(y_tick_labels))\n",
    "\n",
    "gnt.set_yticks(y_pos)\n",
    "gnt.set_yticklabels(y_tick_labels)\n",
    "\n",
    "for index, row in generation.sort_values(by='start').reset_index().iterrows():\n",
    "    start_year = int(row.born)\n",
    "    duration = start_year - generation.died\n",
    "    gnt.broken_barh([(start_year, duration)], \n",
    "                    (index-0.5,0.8), \n",
    "                    facecolors =('tan'),\n",
    "                   label=row.name)\n",
    "    gnt.text(start_year+0.5, index-0.2, row.name)"
   ]
  },
  {
   "cell_type": "code",
   "execution_count": 4,
   "metadata": {},
   "outputs": [
    {
     "data": {
      "image/png": "[encoded data removed]",
      "text/plain": [
       "<Figure size 800x600 with 1 Axes>"
      ]
     },
     "metadata": {},
     "output_type": "display_data"
    }
   ],
   "source": [
    "import matplotlib.pyplot as plt\n",
    "import numpy as np\n",
    "import pandas as pd\n",
    "\n",
    "# source = pd.DataFrame([\n",
    "#     {\"person\": \"Adam\",   \"start\": '-4026-01-01', \"end\": '-3096-01-01'},\n",
    "#     {\"person\": \"Seth\",   \"start\": '-3896-01-01', \"end\": '-2984-01-01'},\n",
    "#     {\"person\": \"Enosch\", \"start\": '-3791-01-01', \"end\": '-2886-01-01'}\n",
    "# ])\n",
    "\n",
    "source = pd.DataFrame([\n",
    "    {\"person\": \"Adam\",   \"start\": '2026-01-01', \"end\": '2096-01-01'},\n",
    "    {\"person\": \"Seth\",   \"start\": '1896-01-01', \"end\": '1984-01-01'},\n",
    "    {\"person\": \"Enosch\", \"start\": '1791-01-01', \"end\": '1886-01-01'}\n",
    "])\n",
    "\n",
    "source['start'] = pd.to_datetime(source['start'])\n",
    "source['end'] = pd.to_datetime(source['end'])\n",
    "source['diff'] = source['end'] - source['start']\n",
    " \n",
    "# Declaring a figure \"gnt\"\n",
    "fig, gnt = plt.subplots(figsize=(8,6))\n",
    " \n",
    "# Need to fix hidden tick labels\n",
    "# https://stackoverflow.com/questions/43673659/matplotlib-not-showing-first-label-on-x-axis-for-the-bar-plot\n",
    " \n",
    "y_tick_labels = source.person.values\n",
    "y_pos = np.arange(len(y_tick_labels))\n",
    " \n",
    "gnt.set_yticks(y_pos)\n",
    "gnt.set_yticklabels(y_tick_labels)\n",
    "\n",
    "# https://sparkbyexamples.com/python/iterate-over-rows-in-pandas-dataframe/\n",
    "# https://www.tutorialspoint.com/plotting-dates-on-the-x-axis-with-python-s-matplotlib\n",
    "# https://matplotlib.org/stable/gallery/color/named_colors.html\n",
    "# https://pandas.pydata.org/pandas-docs/stable/reference/api/pandas.DataFrame.sort_values.html\n",
    "# https://www.geeksforgeeks.org/how-to-annotate-matplotlib-scatter-plots\n",
    "for index, row in source.sort_values(by='start').reset_index().iterrows():\n",
    "    start_year = int(row.start.strftime(\"%Y\"))\n",
    "    duration = row['diff'].days/365\n",
    "    gnt.broken_barh([(start_year, duration)], \n",
    "                    (index-0.5,0.8), \n",
    "                    facecolors =('tan'),\n",
    "                   label=row.person)\n",
    "    gnt.text(start_year+0.5, index-0.2, row.person)"
   ]
  },
  {
   "cell_type": "markdown",
   "metadata": {},
   "source": [
    "## Hint for VS Code and Jupyter\n",
    "\n",
    "The source for the kernel is C:\\Users\\matth\\anaconda3\\python.exe"
   ]
  },
  {
   "cell_type": "code",
   "execution_count": null,
   "metadata": {},
   "outputs": [],
   "source": []
  }
 ],
 "metadata": {
  "kernelspec": {
   "display_name": "Python 3 (ipykernel)",
   "language": "python",
   "name": "python3"
  },
  "language_info": {
   "codemirror_mode": {
    "name": "ipython",
    "version": 3
   },
   "file_extension": ".py",
   "mimetype": "text/x-python",
   "name": "python",
   "nbconvert_exporter": "python",
   "pygments_lexer": "ipython3",
   "version": "3.10.9"
  }
 },
 "nbformat": 4,
 "nbformat_minor": 2
}
