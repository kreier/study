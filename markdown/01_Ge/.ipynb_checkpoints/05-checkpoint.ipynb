{
 "cells": [
  {
   "cell_type": "markdown",
   "metadata": {},
   "source": [
    "# Genesis 5\n",
    "\n",
    "- From Adam to Noah (1-32)\n",
    "- Adam fathered sons and daughters (4)\n",
    "- Enoch walked with God (21-24)"
   ]
  },
  {
   "cell_type": "code",
   "execution_count": 5,
   "metadata": {},
   "outputs": [
    {
     "data": {
      "image/png": "[encoded data removed]",
      "text/plain": [
       "<Figure size 800x600 with 1 Axes>"
      ]
     },
     "metadata": {},
     "output_type": "display_data"
    }
   ],
   "source": [
    "import matplotlib.pyplot as plt\n",
    "import numpy as np\n",
    "import pandas as pd\n",
    "\n",
    "source = pd.DataFrame([\n",
    "    {\"person\": \"Adam\", \"start\": '2026-01-01', \"end\": '2096-01-01'},\n",
    "    {\"person\": \"Seth\", \"start\": '1896-01-01', \"end\": '1984-01-01'},\n",
    "    {\"person\": \"Enosch\", \"start\": '1791-01-01', \"end\": '1886-01-01'}\n",
    "])\n",
    "\n",
    "source['start'] = pd.to_datetime(source['start'])\n",
    "source['end'] = pd.to_datetime(source['end'])\n",
    "source['diff'] = source['end'] - source['start']\n",
    " \n",
    "# Declaring a figure \"gnt\"\n",
    "fig, gnt = plt.subplots(figsize=(8,6))\n",
    " \n",
    "# Need to fix hidden tick labels\n",
    "# https://stackoverflow.com/questions/43673659/matplotlib-not-showing-first-label-on-x-axis-for-the-bar-plot\n",
    " \n",
    "y_tick_labels = source.person.values\n",
    "y_pos = np.arange(len(y_tick_labels))\n",
    " \n",
    "gnt.set_yticks(y_pos)\n",
    "gnt.set_yticklabels(y_tick_labels)\n",
    "\n",
    "# https://sparkbyexamples.com/python/iterate-over-rows-in-pandas-dataframe/\n",
    "# https://www.tutorialspoint.com/plotting-dates-on-the-x-axis-with-python-s-matplotlib\n",
    "# https://matplotlib.org/stable/gallery/color/named_colors.html\n",
    "# https://pandas.pydata.org/pandas-docs/stable/reference/api/pandas.DataFrame.sort_values.html\n",
    "# https://www.geeksforgeeks.org/how-to-annotate-matplotlib-scatter-plots\n",
    "for index, row in source.sort_values(by='start').reset_index().iterrows():\n",
    "    start_year = int(row.start.strftime(\"%Y\"))\n",
    "    duration = row['diff'].days/365\n",
    "    gnt.broken_barh([(start_year, duration)], \n",
    "                    (index-0.5,0.8), \n",
    "                    facecolors =('tan'),\n",
    "                   label=row.person)\n",
    "    gnt.text(start_year+0.5, index-0.2, row.person)"
   ]
  },
  {
   "cell_type": "code",
   "execution_count": null,
   "metadata": {},
   "outputs": [],
   "source": []
  },
  {
   "cell_type": "code",
   "execution_count": null,
   "metadata": {},
   "outputs": [],
   "source": []
  }
 ],
 "metadata": {
  "kernelspec": {
   "display_name": "Python 3 (ipykernel)",
   "language": "python",
   "name": "python3"
  },
  "language_info": {
   "codemirror_mode": {
    "name": "ipython",
    "version": 3
   },
   "file_extension": ".py",
   "mimetype": "text/x-python",
   "name": "python",
   "nbconvert_exporter": "python",
   "pygments_lexer": "ipython3",
   "version": "3.10.9"
  }
 },
 "nbformat": 4,
 "nbformat_minor": 2
}
